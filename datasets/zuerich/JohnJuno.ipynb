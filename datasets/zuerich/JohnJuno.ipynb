Ich *hanen* *letschti* ja no gseh gha
So richtig *erchennt* het er mich aber nöd
*Hüfig* het er vom mars *verzellt* gha
Dass er irgendwenn de *erst wird si und mir werded scho gseh*

John Juno here

Und jedes mal wenn ich in *himmel ufe lueg*
Weiss ich er isch no da
Er *triibt ganz allei durs weltall*
Irgendwo in outer space
Er isch en einsame astronaut

John Juno can you hear me?
Ja *ghörsch* du, ja *ghörsch* du mich?

*Er isch en planet ohni mond gsi*
*Z'nöch ade sunne, glich ohni strom gsi*
*Liechtjahr hend ois trennt gha*
So viel sterne, so viel liechter
*Aber glich het de himmel über ois no gar kei farb*

John Juno here

*Und jedes mal wenn ich in himmel ufe lueg*
Weiss ich er isch no da
*Er triibt ganz allei durs weltall*
Irgendwo in outer space
Er isch en einsame astronaut

John Juno can you hear me?
Ja ghörsch du, ja ghörsch du mich?

Und jedes mal wenn ich *ufe* lueg
Weiss ich er isch no da und *triibt* durs weltall
Det isch kei *chraft* meh wo in *zruggzieht*
Kein gschmack meh wo im d'lust *verdirbt*
Er chan eifach echli si, ganz allei i *sinre* galaxie

Und jedes mal wenn ich in himmel ufe lueg
Weiss ich er isch no da
*Er triibt ganz allei durs weltall*
Irgendwo in outer space

Er isch en einsame astronaut
En einsame, einsame astronaut
Er isch en einsame astronaut
