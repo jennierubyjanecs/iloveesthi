*Mir sitzed duss vorem paddys
Und du rauchsch und du rauchsch
A dir isch immer no alles
So vertraut, so vertraut*

*Aber wenn ich jetzt ehrlich bin*
*Gits da ei sach, won ich dir nie gseit han*

Ich han immer nume nur a dich denkt
Bin dir *pauselos nahgrennt*
*Ich han immer nume dich im chopf gha*
Siit do in valencia
Ich han immer *nume* dich im chopf gha

Hend *s’vorstadtlebe* scho zeme
*Duregmacht, duregmacht*
*Sind dur dick und dünn*
*Hend viel erlebt was ois weh macht*
Scheiss egal, hends *wegglacht*

*Oisi weg hend sich viel z’früеh trennt*
Bevor ich, bevor ich dir gsеit han

Ich han immer nume nur a dich denkt
Bin dir pauselos *nahgrennt*
Ich han immer nume dich im chopf gha
Siit do in valencia
Ich han immer nume dich im chopf gha
Siit do in valencia

Ich weiss no bis zu dem moment
Wo mir *z’spanie* gha hend
Han ich i dir nüt gseh nei
Genau wie *umgekehrt* au

Doch det isch es passiert
I mim chopf hets plötzlich *klirrt*
S’het sich alles *dreht* und
D’welt staht plötzlich *schräg* und

Ich han immer nume nur a dich denkt
Bin dir pauselos *nahgrennt*
Ich han immer nume dich im chopf gha
Siit do in valencia
Ich han immer nume dich im chopf gha

Ich han immer nume nur a dich denkt
Bin dir pauselos nahgrennt
Ich han immer nume dich im chopf gha
Siit do in valencia
Ich han immer nume dich im chopf gha
