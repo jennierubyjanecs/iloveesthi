*Ich wär so gern en Teil vo dir gsi*
*Stell di ufs Podescht du bisch min Mittelpunkt*
*Ich find bi dir nid statt ich bliib im Hintergund*

*Was chan ich geh was du no nid hesch*
Bin nur en Punkt i dim Kalender
*De Mond rotiert umd Erde will sie zieht ihn ah*

*Du schriibsch nur ide Nacht du gsehsch mi nid am Tag*
Wieso *schwümm* ich no *geg de Strom*
Und *sie seit*: oh es isch verbii

Und *alles womer bliibt egal wie chli ich bhalt das bi mir*
*Zwüschet eus uf eimal Liechtjahr*
Eigentlich scho immer *ich hans nur nid gseh*

Und wär au nomal uf eus beidi *inegheit*
*Obwohl das Schiff scho länger sinkt*
*Und dänn luegi nomal hindre*

*Gseh din Punkt verschwinde det am Horizont*
*Ghei us allne Wulche s isch en schöne Flug*

*Schwäbe* dur das *Abigrot*

Und sie seit oh es isch verbii
Und sie seit oh es isch verbii
Und alles wo mer bliibt isch eigentlich au gar nid so *chlii*
