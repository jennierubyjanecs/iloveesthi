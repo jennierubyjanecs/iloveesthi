Lueg mal s'füürwerk, *du heschs nöd gern*
Für dich machts, eifach *nume lärm*
Scho wieder de *gin usgleert*, s halbe glas *verteilt* ufs chleid
Sie hend ja scho *abgruumt*, chum mir *schaukled* zeme hei

Lena, ich wart *ade kronestrass ufs tram*
Oh Lena, *wär lieber bliibe tagelang*
Oh Lena, dini blaue auge sind mer z'viel
Wil lena, ich *verlür* mich immer drin

I dim zimmer, *schmöckschs* mittelmeer
*Sither* immer, wenn ich dich gseh
Wett ich wieder i dis zimmer *zrugg*, din herzschlag a mim ohr
Au wenn du über dini *witz* lachsch, fiir en glich din humor

Lena, ich wart ade *kronestrass* ufs tram
Oh Lena, wär lieber bliibe tagelang
Oh Lena, dini blaue auge sind mer z'viel
Will Lena, ich *verlür* mich immer drin

Sie kenned mich, kenned mich, bi dir im quartier
Jede weiss genau, weiss genau will ich bin so viel bi dir
Sie kenned mich, kenned mich, bi dir im quartier
Jede weiss genau, weiss genau will ich bin so viel bi dir

Oh Lena

Lena, ich wart ade kronestrass ufs tram
Oh Lena, wär lieber bliibe tagelang
Oh Lena, dini blaue auge sind mer z'viel
Will Lena, ich verlür mich immer drin

Oh Lena, ich wart ade kronestrass ufs tram
Oh Lena, wär lieber bliibe tagelang
Oh Lena, dini blaue auge sind mer z'viel
Will Lena, ich verlür mich immer drin
