*I dem riise menschemeer*
*Gsehn nur dich als wärs menscheleer*
*Und während crowd rund um dich usflippt*
*Du nur relaxt din daiquiri sippsch*

Festival, festival love
Wenn ich weg dir *nüme* schlaf
*Will jedi summernacht wird da duregmacht*

Festival festival love
Chan ich dich *nöd immer ha*
*Egal öb dreck und *schlamm* oder sunne am*

*Stürchled* zeme zum camping hi
*Hend d’becher gfüllt mit billigwii*
*Ziehsch mich i dis trekkingzelt*
*Es perlt de schweiss vo de innewänd*

Festival, festival love
Wenn ich weg dir nüme schlaf
*Will jedi summernacht wird da duregmacht*

Festival festival love
Chan ich dich nöd immer ha
Egal *öb* dreck und schlamm oder sunne am

Festival festival love

Und du *lachsch* mich ah
*Mis herz bliibt*
Mis herz bliibt *stah*
Und will *nüm gah*

Wie du mich *bewegsch*
Wenn du dich
Wenn du dich *bewegsch*

Festival, festival love
Wenn ich weg dir *nüme* schlaf
Will jedi summernacht wird da *duregmacht*

Festival festival love
Chan ich dich *nöd* immer ha
*Egal öb dreck und schlamm oder sunne am*

Festival festival love

