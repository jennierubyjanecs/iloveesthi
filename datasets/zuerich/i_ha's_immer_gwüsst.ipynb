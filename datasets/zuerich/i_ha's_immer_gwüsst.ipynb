*Scho woni di vo jahre zerst mau gseh ha hesch mi iritiert.*
*Ha nid genau gwüsst wases isch wo mi a dir het fasziniert.*
*Mir hei üs verlore u immer wider gfunge.*
*Wöu ds schiksau hed das für üs bestumme.*
 
Und i has immer gwüsst, dass du *fr mi ganz öppis bsungers bisch.*
*We das fr di ou stimmt de legi d charte hüt no ufe tisch.*
*Und i has immer gwüsst, i has immer gwüsst ds du das bisch.*
 
*D stärne säge dases ganz u gar unmöglech isch*
*Doch sogar d stärne chöisech tüsche, wenn du mir di chance gisch.*
*Mit dir cha mi ewigi suechi es ändi ha, *flüg* midmer weg u la üs nöi ahfah.*
 
Und i has immer gwüsst, dass du fr mi ganz *öppis bsungers bisch.*
We das *fr di ou stimmt de legi d charte hüt no ufe tisch.*
*Chum es isch nie maus z spät fürne nöie weg mir chöi nä ga.*
*Viu besser jetz aus nie mir chöi dem nüm entflie üsi zyt isch da.*
*Und i gloube dra*
 
Und i has immer gwüsst, i has immer gwüsst, dass du das bisch
 
Na na na nanana na na na naa
 
Chum i has immer gwüsst, dass du fr mi ganz öppis bsungers bisch.
We das fr di ou stimmt de legi d charte hüt no ufe tisch.
Chum es isch nie maus z spät fürne nöie weg mir chöi nä ga.
Viu besser jetz aus nie mir chöin dem nüm entflie üsi zyt isch da.
Und i gloube dra
 
Und i has immer gwüsst, dass du das bisch
