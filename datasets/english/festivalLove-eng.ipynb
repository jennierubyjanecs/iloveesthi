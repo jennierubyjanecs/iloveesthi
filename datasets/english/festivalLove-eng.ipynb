*I dem riise menschemeer*
*look at you as if it were deserted*
*And while crowd freaks out around you*
*You only relaxed din daiquiri sippsch*

Festival, festival love
When I'm away from you *nüme* sleep
*wants jedi summer night will there be duregmacht*

festival festival love
I chan you *ned always ha*
*It doesn't matter if it's dirt and *mud* or sunne am*

*Stürchled* zeme for camping hi
*Hend the cup filled with cheap wii*
*Pull me in the trekking tent*
*The sweat is beading on the inside*

Festival, festival love
When I'm away from you, sleep
*wants jedi summer night will there be duregmacht*

festival festival love
Chan I need you always ha
It doesn't matter *öb* dirt and mud or sunne am

festival festival love

And you *laugh* me ah
*My heart stays*
My heart stays *stah*
And want *nüm gah*

how you *move* me
if you
when you *move*

Festival, festival love
When I'm away from you *nüme* sleep
Jedi wants summer night there *duregmacht*

festival festival love
I chan you *no* always ha
*No matter if dirt and mud or sunne am*

festival festival love
